{
 "cells": [
  {
   "cell_type": "code",
   "execution_count": null,
   "metadata": {},
   "outputs": [],
   "source": [
    "#program for creating arrays using different functions."
   ]
  },
  {
   "cell_type": "code",
   "execution_count": 1,
   "metadata": {},
   "outputs": [
    {
     "name": "stdout",
     "output_type": "stream",
     "text": [
      "the array of integer using arange() function is :\n",
      " [ 0  1  2  3  4  5  6  7  8  9 10 11 12 13 14]\n"
     ]
    }
   ],
   "source": [
    "#creating an integer array using arange() function.\n",
    "import numpy as np #import numpy library\n",
    "\n",
    "my_arrang = np.arange(15)\n",
    "print ('the array of integer using arange() function is :\\n',my_arrang)\n",
    "\n",
    "\n"
   ]
  },
  {
   "cell_type": "code",
   "execution_count": 5,
   "metadata": {},
   "outputs": [
    {
     "name": "stdout",
     "output_type": "stream",
     "text": [
      "the array of decimal numbers using arange() function is:\n",
      " [19. 20. 21. 22. 23. 24. 25. 26. 27. 28. 29.]\n"
     ]
    },
    {
     "name": "stderr",
     "output_type": "stream",
     "text": [
      "/var/folders/07/4qgz4xnj28l575f4vrq3z_9m0000gn/T/ipykernel_3052/4065992488.py:2: DeprecationWarning: `np.float` is a deprecated alias for the builtin `float`. To silence this warning, use `float` by itself. Doing this will not modify any behavior and is safe. If you specifically wanted the numpy scalar type, use `np.float64` here.\n",
      "Deprecated in NumPy 1.20; for more details and guidance: https://numpy.org/devdocs/release/1.20.0-notes.html#deprecations\n",
      "  my_float = np.arange(19,30, dtype= np.float)\n"
     ]
    }
   ],
   "source": [
    "#creating a float array using arange() function.\n",
    "my_float = np.arange(19,30, dtype= np.float)\n",
    "print(\"the array of decimal numbers using arange() function is:\\n\", my_float)"
   ]
  },
  {
   "cell_type": "code",
   "execution_count": 6,
   "metadata": {},
   "outputs": [
    {
     "name": "stdout",
     "output_type": "stream",
     "text": [
      "the array of integers using linspace() function:\n",
      " [12.  17.5 23.  28.5 34. ]\n"
     ]
    }
   ],
   "source": [
    "#creating an integer array using linespace() for equal spacing.\n",
    "my_line = np.linspace(12,34,5)\n",
    "print(\"the array of integers using linspace() function:\\n\",my_line)"
   ]
  },
  {
   "cell_type": "code",
   "execution_count": 7,
   "metadata": {},
   "outputs": [
    {
     "name": "stdout",
     "output_type": "stream",
     "text": [
      "an array using zeros :\n",
      " [0. 0. 0. 0.]\n"
     ]
    }
   ],
   "source": [
    "#creating array using zeros() function.\n",
    "my_zero = np.zeros((4))\n",
    "print (\"an array using zeros :\\n\",my_zero)"
   ]
  }
 ],
 "metadata": {
  "kernelspec": {
   "display_name": "Python 3.9.12 ('base')",
   "language": "python",
   "name": "python3"
  },
  "language_info": {
   "codemirror_mode": {
    "name": "ipython",
    "version": 3
   },
   "file_extension": ".py",
   "mimetype": "text/x-python",
   "name": "python",
   "nbconvert_exporter": "python",
   "pygments_lexer": "ipython3",
   "version": "3.9.12"
  },
  "orig_nbformat": 4,
  "vscode": {
   "interpreter": {
    "hash": "40d3a090f54c6569ab1632332b64b2c03c39dcf918b08424e98f38b5ae0af88f"
   }
  }
 },
 "nbformat": 4,
 "nbformat_minor": 2
}
