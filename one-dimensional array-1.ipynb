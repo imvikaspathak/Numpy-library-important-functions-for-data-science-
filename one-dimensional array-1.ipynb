{
 "cells": [
  {
   "cell_type": "markdown",
   "metadata": {},
   "source": [
    "###One-dimensional Array###\n",
    "\n",
    "a one-dimesional is an array of elements of similar data type starting from index 0 and ending at n+1. An array can be created using the array() function of numpy library.\n"
   ]
  },
  {
   "cell_type": "code",
   "execution_count": 15,
   "metadata": {},
   "outputs": [],
   "source": [
    "# Now we creating a 1-D Array #\n",
    "# Now we will import numpy libray #"
   ]
  },
  {
   "cell_type": "code",
   "execution_count": 18,
   "metadata": {},
   "outputs": [
    {
     "name": "stdout",
     "output_type": "stream",
     "text": [
      "this is integers array:\n",
      "  [1 2 3 4 5 6]\n"
     ]
    }
   ],
   "source": [
    "# program to create array from numpy library #\n",
    "import numpy as np\n",
    "\n",
    "#creating an array of integers#\n",
    "my_array = np.array([1,2,3,4,5,6],int)\n",
    "print(\"this is integers array:\\n \",my_array)"
   ]
  },
  {
   "cell_type": "code",
   "execution_count": 20,
   "metadata": {},
   "outputs": [
    {
     "name": "stdout",
     "output_type": "stream",
     "text": [
      "this is characters array: \n",
      " ['a' 'b' 'c' 'd']\n"
     ]
    }
   ],
   "source": [
    "#creating an array of characters#\n",
    "my_char = np.array(['a','b','c','d'])\n",
    "print(\"this is characters array: \\n\", my_char)"
   ]
  },
  {
   "cell_type": "code",
   "execution_count": 21,
   "metadata": {},
   "outputs": [
    {
     "name": "stdout",
     "output_type": "stream",
     "text": [
      "this is string:\n",
      " ['pavan' 'varun' 'anand' 'sayatan' 'adrash']\n"
     ]
    }
   ],
   "source": [
    "#creating an array of string #\n",
    "my_string= np.array(['pavan', 'varun', 'anand', 'sayatan', 'adrash'])\n",
    "print(\"this is string:\\n\", my_string)"
   ]
  },
  {
   "cell_type": "code",
   "execution_count": 22,
   "metadata": {},
   "outputs": [
    {
     "name": "stdout",
     "output_type": "stream",
     "text": [
      "this is flaot array: \n",
      " [1.1 1.3 1.4 1.6]\n"
     ]
    }
   ],
   "source": [
    "#creating a float array #\n",
    "my_float=np.array([1.1,1.3,1.4,1.6])\n",
    "print(\"this is flaot array: \\n\", my_float)"
   ]
  },
  {
   "cell_type": "code",
   "execution_count": 23,
   "metadata": {},
   "outputs": [
    {
     "name": "stdout",
     "output_type": "stream",
     "text": [
      "using view function to create a new array:\n",
      " ['pavan' 'varun' 'anand' 'sayatan' 'adrash']\n"
     ]
    }
   ],
   "source": [
    "#creating view() function to create a new array from an existing array#\n",
    "my_view = my_string.view()\n",
    "print(\"using view function to create a new array:\\n\",my_view)"
   ]
  },
  {
   "cell_type": "code",
   "execution_count": 24,
   "metadata": {},
   "outputs": [
    {
     "name": "stdout",
     "output_type": "stream",
     "text": [
      "using copy function to create a new array :\n",
      " [1.1 1.3 1.4 1.6]\n"
     ]
    }
   ],
   "source": [
    "#using copy() function to create a new array from an existing array #\n",
    "my_copy = my_float.copy()\n",
    "print(\"using copy function to create a new array :\\n\", my_copy)"
   ]
  },
  {
   "cell_type": "markdown",
   "metadata": {},
   "source": [
    "This is demonstrates different methods of creating arrays of different data types, such as integer,decimal,character,string,float."
   ]
  }
 ],
 "metadata": {
  "kernelspec": {
   "display_name": "Python 3.9.12 ('base')",
   "language": "python",
   "name": "python3"
  },
  "language_info": {
   "codemirror_mode": {
    "name": "ipython",
    "version": 3
   },
   "file_extension": ".py",
   "mimetype": "text/x-python",
   "name": "python",
   "nbconvert_exporter": "python",
   "pygments_lexer": "ipython3",
   "version": "3.9.12"
  },
  "orig_nbformat": 4,
  "vscode": {
   "interpreter": {
    "hash": "40d3a090f54c6569ab1632332b64b2c03c39dcf918b08424e98f38b5ae0af88f"
   }
  }
 },
 "nbformat": 4,
 "nbformat_minor": 2
}
